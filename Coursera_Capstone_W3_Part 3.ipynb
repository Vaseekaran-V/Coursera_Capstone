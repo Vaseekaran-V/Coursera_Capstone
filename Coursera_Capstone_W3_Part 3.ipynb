{
 "cells": [
  {
   "cell_type": "markdown",
   "metadata": {},
   "source": [
    "# Segmenting and Clustering Neighbourhoods in Toronto"
   ]
  },
  {
   "cell_type": "markdown",
   "metadata": {},
   "source": [
    "Importing libraries "
   ]
  },
  {
   "cell_type": "code",
   "execution_count": 1,
   "metadata": {},
   "outputs": [],
   "source": [
    "import pandas as pd\n",
    "import numpy as np\n",
    "import requests"
   ]
  },
  {
   "cell_type": "markdown",
   "metadata": {},
   "source": [
    "Get the HTML page of Wiki, and using read_html we convert the html data into list of Data frame objects."
   ]
  },
  {
   "cell_type": "markdown",
   "metadata": {},
   "source": [
    "Remove cells which have borrow not assigned.\n"
   ]
  },
  {
   "cell_type": "code",
   "execution_count": 2,
   "metadata": {},
   "outputs": [
    {
     "data": {
      "text/html": [
       "<div>\n",
       "<style scoped>\n",
       "    .dataframe tbody tr th:only-of-type {\n",
       "        vertical-align: middle;\n",
       "    }\n",
       "\n",
       "    .dataframe tbody tr th {\n",
       "        vertical-align: top;\n",
       "    }\n",
       "\n",
       "    .dataframe thead th {\n",
       "        text-align: right;\n",
       "    }\n",
       "</style>\n",
       "<table border=\"1\" class=\"dataframe\">\n",
       "  <thead>\n",
       "    <tr style=\"text-align: right;\">\n",
       "      <th></th>\n",
       "      <th>index</th>\n",
       "      <th>Postal Code</th>\n",
       "      <th>Borough</th>\n",
       "      <th>Neighbourhood</th>\n",
       "    </tr>\n",
       "  </thead>\n",
       "  <tbody>\n",
       "    <tr>\n",
       "      <th>0</th>\n",
       "      <td>2</td>\n",
       "      <td>M3A</td>\n",
       "      <td>North York</td>\n",
       "      <td>Parkwoods</td>\n",
       "    </tr>\n",
       "    <tr>\n",
       "      <th>1</th>\n",
       "      <td>3</td>\n",
       "      <td>M4A</td>\n",
       "      <td>North York</td>\n",
       "      <td>Victoria Village</td>\n",
       "    </tr>\n",
       "    <tr>\n",
       "      <th>2</th>\n",
       "      <td>4</td>\n",
       "      <td>M5A</td>\n",
       "      <td>Downtown Toronto</td>\n",
       "      <td>Regent Park, Harbourfront</td>\n",
       "    </tr>\n",
       "    <tr>\n",
       "      <th>3</th>\n",
       "      <td>5</td>\n",
       "      <td>M6A</td>\n",
       "      <td>North York</td>\n",
       "      <td>Lawrence Manor, Lawrence Heights</td>\n",
       "    </tr>\n",
       "    <tr>\n",
       "      <th>4</th>\n",
       "      <td>6</td>\n",
       "      <td>M7A</td>\n",
       "      <td>Downtown Toronto</td>\n",
       "      <td>Queen's Park, Ontario Provincial Government</td>\n",
       "    </tr>\n",
       "  </tbody>\n",
       "</table>\n",
       "</div>"
      ],
      "text/plain": [
       "   index Postal Code           Borough  \\\n",
       "0      2         M3A        North York   \n",
       "1      3         M4A        North York   \n",
       "2      4         M5A  Downtown Toronto   \n",
       "3      5         M6A        North York   \n",
       "4      6         M7A  Downtown Toronto   \n",
       "\n",
       "                                 Neighbourhood  \n",
       "0                                    Parkwoods  \n",
       "1                             Victoria Village  \n",
       "2                    Regent Park, Harbourfront  \n",
       "3             Lawrence Manor, Lawrence Heights  \n",
       "4  Queen's Park, Ontario Provincial Government  "
      ]
     },
     "execution_count": 2,
     "metadata": {},
     "output_type": "execute_result"
    }
   ],
   "source": [
    "wiki = 'https://en.wikipedia.org/wiki/List_of_postal_codes_of_Canada:_M'\n",
    "wiki_page = requests.get(wiki)\n",
    "\n",
    "wiki_raw = pd.read_html(wiki_page.content, header = 0)[0]\n",
    "df = wiki_raw[wiki_raw.Neighbourhood != 'Not assigned']\n",
    "df.reset_index(inplace = True)\n",
    "df.head()"
   ]
  },
  {
   "cell_type": "code",
   "execution_count": 3,
   "metadata": {},
   "outputs": [
    {
     "data": {
      "text/html": [
       "<div>\n",
       "<style scoped>\n",
       "    .dataframe tbody tr th:only-of-type {\n",
       "        vertical-align: middle;\n",
       "    }\n",
       "\n",
       "    .dataframe tbody tr th {\n",
       "        vertical-align: top;\n",
       "    }\n",
       "\n",
       "    .dataframe thead th {\n",
       "        text-align: right;\n",
       "    }\n",
       "</style>\n",
       "<table border=\"1\" class=\"dataframe\">\n",
       "  <thead>\n",
       "    <tr style=\"text-align: right;\">\n",
       "      <th></th>\n",
       "      <th>index</th>\n",
       "      <th>Borough</th>\n",
       "      <th>Neighbourhood</th>\n",
       "    </tr>\n",
       "    <tr>\n",
       "      <th>Postal Code</th>\n",
       "      <th></th>\n",
       "      <th></th>\n",
       "      <th></th>\n",
       "    </tr>\n",
       "  </thead>\n",
       "  <tbody>\n",
       "    <tr>\n",
       "      <th>M1B</th>\n",
       "      <td>9</td>\n",
       "      <td>Scarborough</td>\n",
       "      <td>Malvern, Rouge</td>\n",
       "    </tr>\n",
       "    <tr>\n",
       "      <th>M1C</th>\n",
       "      <td>18</td>\n",
       "      <td>Scarborough</td>\n",
       "      <td>Rouge Hill, Port Union, Highland Creek</td>\n",
       "    </tr>\n",
       "    <tr>\n",
       "      <th>M1E</th>\n",
       "      <td>27</td>\n",
       "      <td>Scarborough</td>\n",
       "      <td>Guildwood, Morningside, West Hill</td>\n",
       "    </tr>\n",
       "    <tr>\n",
       "      <th>M1G</th>\n",
       "      <td>36</td>\n",
       "      <td>Scarborough</td>\n",
       "      <td>Woburn</td>\n",
       "    </tr>\n",
       "    <tr>\n",
       "      <th>M1H</th>\n",
       "      <td>45</td>\n",
       "      <td>Scarborough</td>\n",
       "      <td>Cedarbrae</td>\n",
       "    </tr>\n",
       "    <tr>\n",
       "      <th>...</th>\n",
       "      <td>...</td>\n",
       "      <td>...</td>\n",
       "      <td>...</td>\n",
       "    </tr>\n",
       "    <tr>\n",
       "      <th>M9N</th>\n",
       "      <td>98</td>\n",
       "      <td>York</td>\n",
       "      <td>Weston</td>\n",
       "    </tr>\n",
       "    <tr>\n",
       "      <th>M9P</th>\n",
       "      <td>107</td>\n",
       "      <td>Etobicoke</td>\n",
       "      <td>Westmount</td>\n",
       "    </tr>\n",
       "    <tr>\n",
       "      <th>M9R</th>\n",
       "      <td>116</td>\n",
       "      <td>Etobicoke</td>\n",
       "      <td>Kingsview Village, St. Phillips, Martin Grove ...</td>\n",
       "    </tr>\n",
       "    <tr>\n",
       "      <th>M9V</th>\n",
       "      <td>143</td>\n",
       "      <td>Etobicoke</td>\n",
       "      <td>South Steeles, Silverstone, Humbergate, Jamest...</td>\n",
       "    </tr>\n",
       "    <tr>\n",
       "      <th>M9W</th>\n",
       "      <td>152</td>\n",
       "      <td>Etobicoke</td>\n",
       "      <td>Northwest, West Humber - Clairville</td>\n",
       "    </tr>\n",
       "  </tbody>\n",
       "</table>\n",
       "<p>103 rows × 3 columns</p>\n",
       "</div>"
      ],
      "text/plain": [
       "             index      Borough  \\\n",
       "Postal Code                       \n",
       "M1B              9  Scarborough   \n",
       "M1C             18  Scarborough   \n",
       "M1E             27  Scarborough   \n",
       "M1G             36  Scarborough   \n",
       "M1H             45  Scarborough   \n",
       "...            ...          ...   \n",
       "M9N             98         York   \n",
       "M9P            107    Etobicoke   \n",
       "M9R            116    Etobicoke   \n",
       "M9V            143    Etobicoke   \n",
       "M9W            152    Etobicoke   \n",
       "\n",
       "                                                 Neighbourhood  \n",
       "Postal Code                                                     \n",
       "M1B                                             Malvern, Rouge  \n",
       "M1C                     Rouge Hill, Port Union, Highland Creek  \n",
       "M1E                          Guildwood, Morningside, West Hill  \n",
       "M1G                                                     Woburn  \n",
       "M1H                                                  Cedarbrae  \n",
       "...                                                        ...  \n",
       "M9N                                                     Weston  \n",
       "M9P                                                  Westmount  \n",
       "M9R          Kingsview Village, St. Phillips, Martin Grove ...  \n",
       "M9V          South Steeles, Silverstone, Humbergate, Jamest...  \n",
       "M9W                        Northwest, West Humber - Clairville  \n",
       "\n",
       "[103 rows x 3 columns]"
      ]
     },
     "execution_count": 3,
     "metadata": {},
     "output_type": "execute_result"
    }
   ],
   "source": [
    "df.groupby(['Postal Code']).first()"
   ]
  },
  {
   "cell_type": "markdown",
   "metadata": {},
   "source": [
    "The new Wiki link already has nieghborhood merged according to Postal Code and Borough\n"
   ]
  },
  {
   "cell_type": "code",
   "execution_count": 4,
   "metadata": {},
   "outputs": [
    {
     "data": {
      "text/plain": [
       "103"
      ]
     },
     "execution_count": 4,
     "metadata": {},
     "output_type": "execute_result"
    }
   ],
   "source": [
    "len(df['Postal Code'].unique())"
   ]
  },
  {
   "cell_type": "code",
   "execution_count": 5,
   "metadata": {},
   "outputs": [
    {
     "data": {
      "text/html": [
       "<div>\n",
       "<style scoped>\n",
       "    .dataframe tbody tr th:only-of-type {\n",
       "        vertical-align: middle;\n",
       "    }\n",
       "\n",
       "    .dataframe tbody tr th {\n",
       "        vertical-align: top;\n",
       "    }\n",
       "\n",
       "    .dataframe thead th {\n",
       "        text-align: right;\n",
       "    }\n",
       "</style>\n",
       "<table border=\"1\" class=\"dataframe\">\n",
       "  <thead>\n",
       "    <tr style=\"text-align: right;\">\n",
       "      <th></th>\n",
       "      <th>index</th>\n",
       "      <th>Postal Code</th>\n",
       "      <th>Borough</th>\n",
       "      <th>Neighbourhood</th>\n",
       "    </tr>\n",
       "  </thead>\n",
       "  <tbody>\n",
       "  </tbody>\n",
       "</table>\n",
       "</div>"
      ],
      "text/plain": [
       "Empty DataFrame\n",
       "Columns: [index, Postal Code, Borough, Neighbourhood]\n",
       "Index: []"
      ]
     },
     "execution_count": 5,
     "metadata": {},
     "output_type": "execute_result"
    }
   ],
   "source": [
    "df[df['Borough'] == 'Not assigned']"
   ]
  },
  {
   "cell_type": "code",
   "execution_count": 6,
   "metadata": {},
   "outputs": [
    {
     "data": {
      "text/plain": [
       "(103, 4)"
      ]
     },
     "execution_count": 6,
     "metadata": {},
     "output_type": "execute_result"
    }
   ],
   "source": [
    "df.shape"
   ]
  },
  {
   "cell_type": "markdown",
   "metadata": {},
   "source": [
    "# Part 2"
   ]
  },
  {
   "cell_type": "code",
   "execution_count": 7,
   "metadata": {},
   "outputs": [
    {
     "name": "stdout",
     "output_type": "stream",
     "text": [
      "Requirement already satisfied: geocoder in /opt/anaconda3/envs/hello/lib/python3.6/site-packages (1.38.1)\n",
      "Requirement already satisfied: click in /opt/anaconda3/envs/hello/lib/python3.6/site-packages (from geocoder) (7.1.2)\n",
      "Requirement already satisfied: future in /opt/anaconda3/envs/hello/lib/python3.6/site-packages (from geocoder) (0.18.2)\n",
      "Requirement already satisfied: requests in /opt/anaconda3/envs/hello/lib/python3.6/site-packages (from geocoder) (2.24.0)\n",
      "Requirement already satisfied: ratelim in /opt/anaconda3/envs/hello/lib/python3.6/site-packages (from geocoder) (0.1.6)\n",
      "Requirement already satisfied: six in /opt/anaconda3/envs/hello/lib/python3.6/site-packages (from geocoder) (1.15.0)\n",
      "Requirement already satisfied: idna<3,>=2.5 in /opt/anaconda3/envs/hello/lib/python3.6/site-packages (from requests->geocoder) (2.10)\n",
      "Requirement already satisfied: urllib3!=1.25.0,!=1.25.1,<1.26,>=1.21.1 in /opt/anaconda3/envs/hello/lib/python3.6/site-packages (from requests->geocoder) (1.25.9)\n",
      "Requirement already satisfied: certifi>=2017.4.17 in /opt/anaconda3/envs/hello/lib/python3.6/site-packages (from requests->geocoder) (2020.12.5)\n",
      "Requirement already satisfied: chardet<4,>=3.0.2 in /opt/anaconda3/envs/hello/lib/python3.6/site-packages (from requests->geocoder) (3.0.4)\n",
      "Requirement already satisfied: decorator in /opt/anaconda3/envs/hello/lib/python3.6/site-packages (from ratelim->geocoder) (4.4.2)\n"
     ]
    }
   ],
   "source": [
    "!pip install geocoder"
   ]
  },
  {
   "cell_type": "markdown",
   "metadata": {},
   "source": [
    "Import geocoder lib to fetch latitude and longitude"
   ]
  },
  {
   "cell_type": "code",
   "execution_count": 8,
   "metadata": {},
   "outputs": [],
   "source": [
    "import geocoder"
   ]
  },
  {
   "cell_type": "markdown",
   "metadata": {},
   "source": [
    "geocoder wasn't working that's why using csv file given in the course"
   ]
  },
  {
   "cell_type": "code",
   "execution_count": 9,
   "metadata": {},
   "outputs": [],
   "source": [
    "url = 'http://cocl.us/Geospatial_data'"
   ]
  },
  {
   "cell_type": "code",
   "execution_count": 10,
   "metadata": {},
   "outputs": [
    {
     "data": {
      "text/html": [
       "<div>\n",
       "<style scoped>\n",
       "    .dataframe tbody tr th:only-of-type {\n",
       "        vertical-align: middle;\n",
       "    }\n",
       "\n",
       "    .dataframe tbody tr th {\n",
       "        vertical-align: top;\n",
       "    }\n",
       "\n",
       "    .dataframe thead th {\n",
       "        text-align: right;\n",
       "    }\n",
       "</style>\n",
       "<table border=\"1\" class=\"dataframe\">\n",
       "  <thead>\n",
       "    <tr style=\"text-align: right;\">\n",
       "      <th></th>\n",
       "      <th>Postal Code</th>\n",
       "      <th>Latitude</th>\n",
       "      <th>Longitude</th>\n",
       "    </tr>\n",
       "  </thead>\n",
       "  <tbody>\n",
       "    <tr>\n",
       "      <th>0</th>\n",
       "      <td>M1B</td>\n",
       "      <td>43.806686</td>\n",
       "      <td>-79.194353</td>\n",
       "    </tr>\n",
       "    <tr>\n",
       "      <th>1</th>\n",
       "      <td>M1C</td>\n",
       "      <td>43.784535</td>\n",
       "      <td>-79.160497</td>\n",
       "    </tr>\n",
       "    <tr>\n",
       "      <th>2</th>\n",
       "      <td>M1E</td>\n",
       "      <td>43.763573</td>\n",
       "      <td>-79.188711</td>\n",
       "    </tr>\n",
       "    <tr>\n",
       "      <th>3</th>\n",
       "      <td>M1G</td>\n",
       "      <td>43.770992</td>\n",
       "      <td>-79.216917</td>\n",
       "    </tr>\n",
       "    <tr>\n",
       "      <th>4</th>\n",
       "      <td>M1H</td>\n",
       "      <td>43.773136</td>\n",
       "      <td>-79.239476</td>\n",
       "    </tr>\n",
       "  </tbody>\n",
       "</table>\n",
       "</div>"
      ],
      "text/plain": [
       "  Postal Code   Latitude  Longitude\n",
       "0         M1B  43.806686 -79.194353\n",
       "1         M1C  43.784535 -79.160497\n",
       "2         M1E  43.763573 -79.188711\n",
       "3         M1G  43.770992 -79.216917\n",
       "4         M1H  43.773136 -79.239476"
      ]
     },
     "execution_count": 10,
     "metadata": {},
     "output_type": "execute_result"
    }
   ],
   "source": [
    "df_geo = pd.read_csv(url)\n",
    "df_geo.head()"
   ]
  },
  {
   "cell_type": "markdown",
   "metadata": {},
   "source": [
    "Checking dtypes of our columns"
   ]
  },
  {
   "cell_type": "code",
   "execution_count": 11,
   "metadata": {},
   "outputs": [
    {
     "data": {
      "text/plain": [
       "Postal Code     object\n",
       "Latitude       float64\n",
       "Longitude      float64\n",
       "dtype: object"
      ]
     },
     "execution_count": 11,
     "metadata": {},
     "output_type": "execute_result"
    }
   ],
   "source": [
    "df_geo.dtypes"
   ]
  },
  {
   "cell_type": "code",
   "execution_count": 12,
   "metadata": {},
   "outputs": [
    {
     "data": {
      "text/plain": [
       "index             int64\n",
       "Postal Code      object\n",
       "Borough          object\n",
       "Neighbourhood    object\n",
       "dtype: object"
      ]
     },
     "execution_count": 12,
     "metadata": {},
     "output_type": "execute_result"
    }
   ],
   "source": [
    "df.dtypes"
   ]
  },
  {
   "cell_type": "markdown",
   "metadata": {},
   "source": [
    "Shapes of both our Dataframes"
   ]
  },
  {
   "cell_type": "code",
   "execution_count": 13,
   "metadata": {},
   "outputs": [
    {
     "data": {
      "text/plain": [
       "(103, 4)"
      ]
     },
     "execution_count": 13,
     "metadata": {},
     "output_type": "execute_result"
    }
   ],
   "source": [
    "df.shape"
   ]
  },
  {
   "cell_type": "code",
   "execution_count": 14,
   "metadata": {},
   "outputs": [
    {
     "data": {
      "text/plain": [
       "(103, 3)"
      ]
     },
     "execution_count": 14,
     "metadata": {},
     "output_type": "execute_result"
    }
   ],
   "source": [
    "df_geo.shape"
   ]
  },
  {
   "cell_type": "markdown",
   "metadata": {},
   "source": [
    "Joining both df's and doing some cleaning"
   ]
  },
  {
   "cell_type": "code",
   "execution_count": 15,
   "metadata": {},
   "outputs": [
    {
     "data": {
      "text/html": [
       "<div>\n",
       "<style scoped>\n",
       "    .dataframe tbody tr th:only-of-type {\n",
       "        vertical-align: middle;\n",
       "    }\n",
       "\n",
       "    .dataframe tbody tr th {\n",
       "        vertical-align: top;\n",
       "    }\n",
       "\n",
       "    .dataframe thead th {\n",
       "        text-align: right;\n",
       "    }\n",
       "</style>\n",
       "<table border=\"1\" class=\"dataframe\">\n",
       "  <thead>\n",
       "    <tr style=\"text-align: right;\">\n",
       "      <th></th>\n",
       "      <th>index</th>\n",
       "      <th>Postal Code</th>\n",
       "      <th>Borough</th>\n",
       "      <th>Neighbourhood</th>\n",
       "      <th>Latitude</th>\n",
       "      <th>Longitude</th>\n",
       "    </tr>\n",
       "  </thead>\n",
       "  <tbody>\n",
       "    <tr>\n",
       "      <th>0</th>\n",
       "      <td>2</td>\n",
       "      <td>M3A</td>\n",
       "      <td>North York</td>\n",
       "      <td>Parkwoods</td>\n",
       "      <td>43.753259</td>\n",
       "      <td>-79.329656</td>\n",
       "    </tr>\n",
       "    <tr>\n",
       "      <th>1</th>\n",
       "      <td>3</td>\n",
       "      <td>M4A</td>\n",
       "      <td>North York</td>\n",
       "      <td>Victoria Village</td>\n",
       "      <td>43.725882</td>\n",
       "      <td>-79.315572</td>\n",
       "    </tr>\n",
       "    <tr>\n",
       "      <th>2</th>\n",
       "      <td>4</td>\n",
       "      <td>M5A</td>\n",
       "      <td>Downtown Toronto</td>\n",
       "      <td>Regent Park, Harbourfront</td>\n",
       "      <td>43.654260</td>\n",
       "      <td>-79.360636</td>\n",
       "    </tr>\n",
       "    <tr>\n",
       "      <th>3</th>\n",
       "      <td>5</td>\n",
       "      <td>M6A</td>\n",
       "      <td>North York</td>\n",
       "      <td>Lawrence Manor, Lawrence Heights</td>\n",
       "      <td>43.718518</td>\n",
       "      <td>-79.464763</td>\n",
       "    </tr>\n",
       "    <tr>\n",
       "      <th>4</th>\n",
       "      <td>6</td>\n",
       "      <td>M7A</td>\n",
       "      <td>Downtown Toronto</td>\n",
       "      <td>Queen's Park, Ontario Provincial Government</td>\n",
       "      <td>43.662301</td>\n",
       "      <td>-79.389494</td>\n",
       "    </tr>\n",
       "    <tr>\n",
       "      <th>...</th>\n",
       "      <td>...</td>\n",
       "      <td>...</td>\n",
       "      <td>...</td>\n",
       "      <td>...</td>\n",
       "      <td>...</td>\n",
       "      <td>...</td>\n",
       "    </tr>\n",
       "    <tr>\n",
       "      <th>98</th>\n",
       "      <td>160</td>\n",
       "      <td>M8X</td>\n",
       "      <td>Etobicoke</td>\n",
       "      <td>The Kingsway, Montgomery Road, Old Mill North</td>\n",
       "      <td>43.653654</td>\n",
       "      <td>-79.506944</td>\n",
       "    </tr>\n",
       "    <tr>\n",
       "      <th>99</th>\n",
       "      <td>165</td>\n",
       "      <td>M4Y</td>\n",
       "      <td>Downtown Toronto</td>\n",
       "      <td>Church and Wellesley</td>\n",
       "      <td>43.665860</td>\n",
       "      <td>-79.383160</td>\n",
       "    </tr>\n",
       "    <tr>\n",
       "      <th>100</th>\n",
       "      <td>168</td>\n",
       "      <td>M7Y</td>\n",
       "      <td>East Toronto</td>\n",
       "      <td>Business reply mail Processing Centre, South C...</td>\n",
       "      <td>43.662744</td>\n",
       "      <td>-79.321558</td>\n",
       "    </tr>\n",
       "    <tr>\n",
       "      <th>101</th>\n",
       "      <td>169</td>\n",
       "      <td>M8Y</td>\n",
       "      <td>Etobicoke</td>\n",
       "      <td>Old Mill South, King's Mill Park, Sunnylea, Hu...</td>\n",
       "      <td>43.636258</td>\n",
       "      <td>-79.498509</td>\n",
       "    </tr>\n",
       "    <tr>\n",
       "      <th>102</th>\n",
       "      <td>178</td>\n",
       "      <td>M8Z</td>\n",
       "      <td>Etobicoke</td>\n",
       "      <td>Mimico NW, The Queensway West, South of Bloor,...</td>\n",
       "      <td>43.628841</td>\n",
       "      <td>-79.520999</td>\n",
       "    </tr>\n",
       "  </tbody>\n",
       "</table>\n",
       "<p>103 rows × 6 columns</p>\n",
       "</div>"
      ],
      "text/plain": [
       "     index Postal Code           Borough  \\\n",
       "0        2         M3A        North York   \n",
       "1        3         M4A        North York   \n",
       "2        4         M5A  Downtown Toronto   \n",
       "3        5         M6A        North York   \n",
       "4        6         M7A  Downtown Toronto   \n",
       "..     ...         ...               ...   \n",
       "98     160         M8X         Etobicoke   \n",
       "99     165         M4Y  Downtown Toronto   \n",
       "100    168         M7Y      East Toronto   \n",
       "101    169         M8Y         Etobicoke   \n",
       "102    178         M8Z         Etobicoke   \n",
       "\n",
       "                                         Neighbourhood   Latitude  Longitude  \n",
       "0                                            Parkwoods  43.753259 -79.329656  \n",
       "1                                     Victoria Village  43.725882 -79.315572  \n",
       "2                            Regent Park, Harbourfront  43.654260 -79.360636  \n",
       "3                     Lawrence Manor, Lawrence Heights  43.718518 -79.464763  \n",
       "4          Queen's Park, Ontario Provincial Government  43.662301 -79.389494  \n",
       "..                                                 ...        ...        ...  \n",
       "98       The Kingsway, Montgomery Road, Old Mill North  43.653654 -79.506944  \n",
       "99                                Church and Wellesley  43.665860 -79.383160  \n",
       "100  Business reply mail Processing Centre, South C...  43.662744 -79.321558  \n",
       "101  Old Mill South, King's Mill Park, Sunnylea, Hu...  43.636258 -79.498509  \n",
       "102  Mimico NW, The Queensway West, South of Bloor,...  43.628841 -79.520999  \n",
       "\n",
       "[103 rows x 6 columns]"
      ]
     },
     "execution_count": 15,
     "metadata": {},
     "output_type": "execute_result"
    }
   ],
   "source": [
    "df = df.join(df_geo.set_index('Postal Code'), on='Postal Code')\n",
    "df"
   ]
  },
  {
   "cell_type": "code",
   "execution_count": 16,
   "metadata": {},
   "outputs": [],
   "source": [
    "df = df.reset_index()"
   ]
  },
  {
   "cell_type": "code",
   "execution_count": 17,
   "metadata": {},
   "outputs": [],
   "source": [
    "df.drop(['index'], axis = 'columns', inplace = True)"
   ]
  },
  {
   "cell_type": "code",
   "execution_count": 18,
   "metadata": {},
   "outputs": [],
   "source": [
    "df = df.set_index('level_0')"
   ]
  },
  {
   "cell_type": "code",
   "execution_count": 19,
   "metadata": {
    "scrolled": true
   },
   "outputs": [
    {
     "data": {
      "text/html": [
       "<div>\n",
       "<style scoped>\n",
       "    .dataframe tbody tr th:only-of-type {\n",
       "        vertical-align: middle;\n",
       "    }\n",
       "\n",
       "    .dataframe tbody tr th {\n",
       "        vertical-align: top;\n",
       "    }\n",
       "\n",
       "    .dataframe thead th {\n",
       "        text-align: right;\n",
       "    }\n",
       "</style>\n",
       "<table border=\"1\" class=\"dataframe\">\n",
       "  <thead>\n",
       "    <tr style=\"text-align: right;\">\n",
       "      <th></th>\n",
       "      <th>Postal Code</th>\n",
       "      <th>Borough</th>\n",
       "      <th>Neighbourhood</th>\n",
       "      <th>Latitude</th>\n",
       "      <th>Longitude</th>\n",
       "    </tr>\n",
       "    <tr>\n",
       "      <th>level_0</th>\n",
       "      <th></th>\n",
       "      <th></th>\n",
       "      <th></th>\n",
       "      <th></th>\n",
       "      <th></th>\n",
       "    </tr>\n",
       "  </thead>\n",
       "  <tbody>\n",
       "    <tr>\n",
       "      <th>0</th>\n",
       "      <td>M3A</td>\n",
       "      <td>North York</td>\n",
       "      <td>Parkwoods</td>\n",
       "      <td>43.753259</td>\n",
       "      <td>-79.329656</td>\n",
       "    </tr>\n",
       "    <tr>\n",
       "      <th>1</th>\n",
       "      <td>M4A</td>\n",
       "      <td>North York</td>\n",
       "      <td>Victoria Village</td>\n",
       "      <td>43.725882</td>\n",
       "      <td>-79.315572</td>\n",
       "    </tr>\n",
       "    <tr>\n",
       "      <th>2</th>\n",
       "      <td>M5A</td>\n",
       "      <td>Downtown Toronto</td>\n",
       "      <td>Regent Park, Harbourfront</td>\n",
       "      <td>43.654260</td>\n",
       "      <td>-79.360636</td>\n",
       "    </tr>\n",
       "    <tr>\n",
       "      <th>3</th>\n",
       "      <td>M6A</td>\n",
       "      <td>North York</td>\n",
       "      <td>Lawrence Manor, Lawrence Heights</td>\n",
       "      <td>43.718518</td>\n",
       "      <td>-79.464763</td>\n",
       "    </tr>\n",
       "    <tr>\n",
       "      <th>4</th>\n",
       "      <td>M7A</td>\n",
       "      <td>Downtown Toronto</td>\n",
       "      <td>Queen's Park, Ontario Provincial Government</td>\n",
       "      <td>43.662301</td>\n",
       "      <td>-79.389494</td>\n",
       "    </tr>\n",
       "  </tbody>\n",
       "</table>\n",
       "</div>"
      ],
      "text/plain": [
       "        Postal Code           Borough  \\\n",
       "level_0                                 \n",
       "0               M3A        North York   \n",
       "1               M4A        North York   \n",
       "2               M5A  Downtown Toronto   \n",
       "3               M6A        North York   \n",
       "4               M7A  Downtown Toronto   \n",
       "\n",
       "                                       Neighbourhood   Latitude  Longitude  \n",
       "level_0                                                                     \n",
       "0                                          Parkwoods  43.753259 -79.329656  \n",
       "1                                   Victoria Village  43.725882 -79.315572  \n",
       "2                          Regent Park, Harbourfront  43.654260 -79.360636  \n",
       "3                   Lawrence Manor, Lawrence Heights  43.718518 -79.464763  \n",
       "4        Queen's Park, Ontario Provincial Government  43.662301 -79.389494  "
      ]
     },
     "execution_count": 19,
     "metadata": {},
     "output_type": "execute_result"
    }
   ],
   "source": [
    "df.head()"
   ]
  },
  {
   "cell_type": "code",
   "execution_count": 20,
   "metadata": {},
   "outputs": [],
   "source": [
    "df = df.rename(index = {'level_0' : 'index'})"
   ]
  },
  {
   "cell_type": "code",
   "execution_count": 21,
   "metadata": {},
   "outputs": [],
   "source": [
    "df.index.name = 'index'"
   ]
  },
  {
   "cell_type": "code",
   "execution_count": 22,
   "metadata": {},
   "outputs": [
    {
     "data": {
      "text/html": [
       "<div>\n",
       "<style scoped>\n",
       "    .dataframe tbody tr th:only-of-type {\n",
       "        vertical-align: middle;\n",
       "    }\n",
       "\n",
       "    .dataframe tbody tr th {\n",
       "        vertical-align: top;\n",
       "    }\n",
       "\n",
       "    .dataframe thead th {\n",
       "        text-align: right;\n",
       "    }\n",
       "</style>\n",
       "<table border=\"1\" class=\"dataframe\">\n",
       "  <thead>\n",
       "    <tr style=\"text-align: right;\">\n",
       "      <th></th>\n",
       "      <th>Postal Code</th>\n",
       "      <th>Borough</th>\n",
       "      <th>Neighbourhood</th>\n",
       "      <th>Latitude</th>\n",
       "      <th>Longitude</th>\n",
       "    </tr>\n",
       "    <tr>\n",
       "      <th>index</th>\n",
       "      <th></th>\n",
       "      <th></th>\n",
       "      <th></th>\n",
       "      <th></th>\n",
       "      <th></th>\n",
       "    </tr>\n",
       "  </thead>\n",
       "  <tbody>\n",
       "    <tr>\n",
       "      <th>0</th>\n",
       "      <td>M3A</td>\n",
       "      <td>North York</td>\n",
       "      <td>Parkwoods</td>\n",
       "      <td>43.753259</td>\n",
       "      <td>-79.329656</td>\n",
       "    </tr>\n",
       "    <tr>\n",
       "      <th>1</th>\n",
       "      <td>M4A</td>\n",
       "      <td>North York</td>\n",
       "      <td>Victoria Village</td>\n",
       "      <td>43.725882</td>\n",
       "      <td>-79.315572</td>\n",
       "    </tr>\n",
       "    <tr>\n",
       "      <th>2</th>\n",
       "      <td>M5A</td>\n",
       "      <td>Downtown Toronto</td>\n",
       "      <td>Regent Park, Harbourfront</td>\n",
       "      <td>43.654260</td>\n",
       "      <td>-79.360636</td>\n",
       "    </tr>\n",
       "    <tr>\n",
       "      <th>3</th>\n",
       "      <td>M6A</td>\n",
       "      <td>North York</td>\n",
       "      <td>Lawrence Manor, Lawrence Heights</td>\n",
       "      <td>43.718518</td>\n",
       "      <td>-79.464763</td>\n",
       "    </tr>\n",
       "    <tr>\n",
       "      <th>4</th>\n",
       "      <td>M7A</td>\n",
       "      <td>Downtown Toronto</td>\n",
       "      <td>Queen's Park, Ontario Provincial Government</td>\n",
       "      <td>43.662301</td>\n",
       "      <td>-79.389494</td>\n",
       "    </tr>\n",
       "  </tbody>\n",
       "</table>\n",
       "</div>"
      ],
      "text/plain": [
       "      Postal Code           Borough  \\\n",
       "index                                 \n",
       "0             M3A        North York   \n",
       "1             M4A        North York   \n",
       "2             M5A  Downtown Toronto   \n",
       "3             M6A        North York   \n",
       "4             M7A  Downtown Toronto   \n",
       "\n",
       "                                     Neighbourhood   Latitude  Longitude  \n",
       "index                                                                     \n",
       "0                                        Parkwoods  43.753259 -79.329656  \n",
       "1                                 Victoria Village  43.725882 -79.315572  \n",
       "2                        Regent Park, Harbourfront  43.654260 -79.360636  \n",
       "3                 Lawrence Manor, Lawrence Heights  43.718518 -79.464763  \n",
       "4      Queen's Park, Ontario Provincial Government  43.662301 -79.389494  "
      ]
     },
     "execution_count": 22,
     "metadata": {},
     "output_type": "execute_result"
    }
   ],
   "source": [
    "df.head()"
   ]
  },
  {
   "cell_type": "code",
   "execution_count": 23,
   "metadata": {},
   "outputs": [
    {
     "data": {
      "text/plain": [
       "(103, 5)"
      ]
     },
     "execution_count": 23,
     "metadata": {},
     "output_type": "execute_result"
    }
   ],
   "source": [
    "df.shape"
   ]
  },
  {
   "cell_type": "markdown",
   "metadata": {},
   "source": [
    "# Part 3"
   ]
  },
  {
   "cell_type": "markdown",
   "metadata": {},
   "source": [
    "Using the foursquere API to segment and cluster the neighborhoods of Toronto"
   ]
  },
  {
   "cell_type": "code",
   "execution_count": 24,
   "metadata": {},
   "outputs": [
    {
     "name": "stdout",
     "output_type": "stream",
     "text": [
      "Requirement already satisfied: geopy in /opt/anaconda3/envs/hello/lib/python3.6/site-packages (2.1.0)\n",
      "Requirement already satisfied: geographiclib<2,>=1.49 in /opt/anaconda3/envs/hello/lib/python3.6/site-packages (from geopy) (1.50)\n"
     ]
    }
   ],
   "source": [
    "!pip install geopy"
   ]
  },
  {
   "cell_type": "code",
   "execution_count": 25,
   "metadata": {},
   "outputs": [
    {
     "name": "stdout",
     "output_type": "stream",
     "text": [
      "Requirement already satisfied: geocoder in /opt/anaconda3/envs/hello/lib/python3.6/site-packages (1.38.1)\r\n",
      "Requirement already satisfied: ratelim in /opt/anaconda3/envs/hello/lib/python3.6/site-packages (from geocoder) (0.1.6)\r\n",
      "Requirement already satisfied: six in /opt/anaconda3/envs/hello/lib/python3.6/site-packages (from geocoder) (1.15.0)\r\n",
      "Requirement already satisfied: click in /opt/anaconda3/envs/hello/lib/python3.6/site-packages (from geocoder) (7.1.2)\r\n",
      "Requirement already satisfied: requests in /opt/anaconda3/envs/hello/lib/python3.6/site-packages (from geocoder) (2.24.0)\r\n",
      "Requirement already satisfied: future in /opt/anaconda3/envs/hello/lib/python3.6/site-packages (from geocoder) (0.18.2)\r\n",
      "Requirement already satisfied: decorator in /opt/anaconda3/envs/hello/lib/python3.6/site-packages (from ratelim->geocoder) (4.4.2)\r\n",
      "Requirement already satisfied: chardet<4,>=3.0.2 in /opt/anaconda3/envs/hello/lib/python3.6/site-packages (from requests->geocoder) (3.0.4)\r\n",
      "Requirement already satisfied: idna<3,>=2.5 in /opt/anaconda3/envs/hello/lib/python3.6/site-packages (from requests->geocoder) (2.10)\r\n",
      "Requirement already satisfied: certifi>=2017.4.17 in /opt/anaconda3/envs/hello/lib/python3.6/site-packages (from requests->geocoder) (2020.12.5)\r\n",
      "Requirement already satisfied: urllib3!=1.25.0,!=1.25.1,<1.26,>=1.21.1 in /opt/anaconda3/envs/hello/lib/python3.6/site-packages (from requests->geocoder) (1.25.9)\r\n"
     ]
    }
   ],
   "source": [
    "!pip install geocoder"
   ]
  },
  {
   "cell_type": "code",
   "execution_count": 26,
   "metadata": {},
   "outputs": [
    {
     "name": "stdout",
     "output_type": "stream",
     "text": [
      "Requirement already satisfied: folium in /opt/anaconda3/envs/hello/lib/python3.6/site-packages (0.11.0)\r\n",
      "Requirement already satisfied: jinja2>=2.9 in /opt/anaconda3/envs/hello/lib/python3.6/site-packages (from folium) (2.11.2)\r\n",
      "Requirement already satisfied: requests in /opt/anaconda3/envs/hello/lib/python3.6/site-packages (from folium) (2.24.0)\r\n",
      "Requirement already satisfied: numpy in /opt/anaconda3/envs/hello/lib/python3.6/site-packages (from folium) (1.17.0)\r\n",
      "Requirement already satisfied: branca>=0.3.0 in /opt/anaconda3/envs/hello/lib/python3.6/site-packages (from folium) (0.4.1)\r\n",
      "Requirement already satisfied: MarkupSafe>=0.23 in /opt/anaconda3/envs/hello/lib/python3.6/site-packages (from jinja2>=2.9->folium) (1.1.1)\r\n",
      "Requirement already satisfied: urllib3!=1.25.0,!=1.25.1,<1.26,>=1.21.1 in /opt/anaconda3/envs/hello/lib/python3.6/site-packages (from requests->folium) (1.25.9)\r\n",
      "Requirement already satisfied: idna<3,>=2.5 in /opt/anaconda3/envs/hello/lib/python3.6/site-packages (from requests->folium) (2.10)\r\n",
      "Requirement already satisfied: certifi>=2017.4.17 in /opt/anaconda3/envs/hello/lib/python3.6/site-packages (from requests->folium) (2020.12.5)\r\n",
      "Requirement already satisfied: chardet<4,>=3.0.2 in /opt/anaconda3/envs/hello/lib/python3.6/site-packages (from requests->folium) (3.0.4)\r\n"
     ]
    }
   ],
   "source": [
    "!pip install folium"
   ]
  },
  {
   "cell_type": "code",
   "execution_count": 27,
   "metadata": {},
   "outputs": [
    {
     "name": "stdout",
     "output_type": "stream",
     "text": [
      "The geograpical coordinate of Toronto are 43.6534817, -79.3839347.\n"
     ]
    }
   ],
   "source": [
    "import geocoder\n",
    "from geopy.geocoders import Nominatim \n",
    "\n",
    "address = 'Toronto, Ontario'\n",
    "\n",
    "geolocator = Nominatim(user_agent=\"toronto_explorer\")\n",
    "location = geolocator.geocode(address)\n",
    "latitude = location.latitude\n",
    "longitude = location.longitude\n",
    "print('The geograpical coordinate of Toronto are {}, {}.'.format(latitude, longitude))"
   ]
  },
  {
   "cell_type": "markdown",
   "metadata": {},
   "source": [
    "Printing the map"
   ]
  },
  {
   "cell_type": "code",
   "execution_count": 28,
   "metadata": {},
   "outputs": [
    {
     "data": {
      "text/html": [
       "<div style=\"width:100%;\"><div style=\"position:relative;width:100%;height:0;padding-bottom:60%;\"><span style=\"color:#565656\">Make this Notebook Trusted to load map: File -> Trust Notebook</span><iframe src=\"about:blank\" style=\"position:absolute;width:100%;height:100%;left:0;top:0;border:none !important;\" data-html=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 onload=\"this.contentDocument.open();this.contentDocument.write(atob(this.getAttribute('data-html')));this.contentDocument.close();\" allowfullscreen webkitallowfullscreen mozallowfullscreen></iframe></div></div>"
      ],
      "text/plain": [
       "<folium.folium.Map at 0x7fc272433240>"
      ]
     },
     "execution_count": 28,
     "metadata": {},
     "output_type": "execute_result"
    }
   ],
   "source": [
    "import folium\n",
    "\n",
    "# create map of Toronto using latitude and longitude values\n",
    "map_Too = folium.Map(location=[latitude, longitude], zoom_start=10)\n",
    "\n",
    "# add markers to map\n",
    "for lat, lng, borough, neighbourhood in zip(df['Latitude'], df['Longitude'], df['Borough'], df['Neighbourhood']):\n",
    "    label = '{}, {}'.format(neighbourhood, borough)\n",
    "    label = folium.Popup(label, parse_html=True)\n",
    "    folium.CircleMarker(\n",
    "        [lat, lng],\n",
    "        radius=5,\n",
    "        popup=label,\n",
    "        color='blue',\n",
    "        fill=True,\n",
    "        fill_color='#3186cc',\n",
    "        fill_opacity=0.7,\n",
    "        ).add_to(map_Too)  \n",
    "    \n",
    "map_Too"
   ]
  },
  {
   "cell_type": "markdown",
   "metadata": {},
   "source": [
    "Define Foursquare parametrs"
   ]
  },
  {
   "cell_type": "code",
   "execution_count": 29,
   "metadata": {},
   "outputs": [
    {
     "name": "stdout",
     "output_type": "stream",
     "text": [
      "Your credentails:\n",
      "CLIENT_ID: IEO3BCOMPMVDENSQXFGQOO21FUGTKIV1ZX01F4LNKLV0PK25\n",
      "CLIENT_SECRET:XNJPG4KKQYJR2ZJM1PFS1FBAOM3APZ32TT2KDDQ3QNBPWCV0\n"
     ]
    }
   ],
   "source": [
    "CLIENT_ID = 'IEO3BCOMPMVDENSQXFGQOO21FUGTKIV1ZX01F4LNKLV0PK25' # your Foursquare ID\n",
    "CLIENT_SECRET = 'XNJPG4KKQYJR2ZJM1PFS1FBAOM3APZ32TT2KDDQ3QNBPWCV0' # your Foursquare Secret\n",
    "VERSION = '20180604' # Foursquare API version\n",
    "\n",
    "print('Your credentails:')\n",
    "print('CLIENT_ID: ' + CLIENT_ID)\n",
    "print('CLIENT_SECRET:' + CLIENT_SECRET)"
   ]
  },
  {
   "cell_type": "markdown",
   "metadata": {},
   "source": [
    "Explore the data, and get the venues in 500 meters range from our first entry"
   ]
  },
  {
   "cell_type": "code",
   "execution_count": 30,
   "metadata": {},
   "outputs": [
    {
     "name": "stdout",
     "output_type": "stream",
     "text": [
      "Latitude and longitude values of Parkwoods are 43.7532586, -79.3296565.\n"
     ]
    }
   ],
   "source": [
    "neighbourhood_latitude = df.loc[0, 'Latitude'] # neighborhood latitude value\n",
    "neighbourhood_longitude = df.loc[0, 'Longitude'] # neighborhood longitude value\n",
    "\n",
    "neighbourhood_name = df.loc[0, 'Neighbourhood'] # neighborhood name\n",
    "\n",
    "print('Latitude and longitude values of {} are {}, {}.'.format(neighbourhood_name, \n",
    "                                                               neighbourhood_latitude, \n",
    "                                                               neighbourhood_longitude))"
   ]
  },
  {
   "cell_type": "markdown",
   "metadata": {},
   "source": [
    "Create the GET request URL"
   ]
  },
  {
   "cell_type": "code",
   "execution_count": 31,
   "metadata": {},
   "outputs": [
    {
     "data": {
      "text/plain": [
       "'https://api.foursquare.com/v2/venues/explore?&client_id=IEO3BCOMPMVDENSQXFGQOO21FUGTKIV1ZX01F4LNKLV0PK25&client_secret=XNJPG4KKQYJR2ZJM1PFS1FBAOM3APZ32TT2KDDQ3QNBPWCV0&v=20180604&ll=43.7532586,-79.3296565&radius=500&limit=100'"
      ]
     },
     "execution_count": 31,
     "metadata": {},
     "output_type": "execute_result"
    }
   ],
   "source": [
    "LIMIT = 100\n",
    "radius = 500\n",
    "url = 'https://api.foursquare.com/v2/venues/explore?&client_id={}&client_secret={}&v={}&ll={},{}&radius={}&limit={}'.format(\n",
    "    CLIENT_ID, \n",
    "    CLIENT_SECRET, \n",
    "    VERSION, \n",
    "    neighbourhood_latitude, \n",
    "    neighbourhood_longitude, \n",
    "    radius, \n",
    "    LIMIT)\n",
    "url"
   ]
  },
  {
   "cell_type": "code",
   "execution_count": 32,
   "metadata": {},
   "outputs": [
    {
     "data": {
      "text/plain": [
       "{'meta': {'code': 200, 'requestId': '5fe8df7cf26a27360041c22d'},\n",
       " 'response': {'warning': {'text': \"There aren't a lot of results near you. Try something more general, reset your filters, or expand the search area.\"},\n",
       "  'headerLocation': 'Parkwoods - Donalda',\n",
       "  'headerFullLocation': 'Parkwoods - Donalda, Toronto',\n",
       "  'headerLocationGranularity': 'neighborhood',\n",
       "  'totalResults': 2,\n",
       "  'suggestedBounds': {'ne': {'lat': 43.757758604500005,\n",
       "    'lng': -79.32343823984928},\n",
       "   'sw': {'lat': 43.7487585955, 'lng': -79.33587476015072}},\n",
       "  'groups': [{'type': 'Recommended Places',\n",
       "    'name': 'recommended',\n",
       "    'items': [{'reasons': {'count': 0,\n",
       "       'items': [{'summary': 'This spot is popular',\n",
       "         'type': 'general',\n",
       "         'reasonName': 'globalInteractionReason'}]},\n",
       "      'venue': {'id': '4e8d9dcdd5fbbbb6b3003c7b',\n",
       "       'name': 'Brookbanks Park',\n",
       "       'location': {'address': 'Toronto',\n",
       "        'lat': 43.751976046055574,\n",
       "        'lng': -79.33214044722958,\n",
       "        'labeledLatLngs': [{'label': 'display',\n",
       "          'lat': 43.751976046055574,\n",
       "          'lng': -79.33214044722958}],\n",
       "        'distance': 245,\n",
       "        'cc': 'CA',\n",
       "        'city': 'Toronto',\n",
       "        'state': 'ON',\n",
       "        'country': 'Canada',\n",
       "        'formattedAddress': ['Toronto', 'Toronto ON', 'Canada']},\n",
       "       'categories': [{'id': '4bf58dd8d48988d163941735',\n",
       "         'name': 'Park',\n",
       "         'pluralName': 'Parks',\n",
       "         'shortName': 'Park',\n",
       "         'icon': {'prefix': 'https://ss3.4sqi.net/img/categories_v2/parks_outdoors/park_',\n",
       "          'suffix': '.png'},\n",
       "         'primary': True}],\n",
       "       'photos': {'count': 0, 'groups': []},\n",
       "       'venuePage': {'id': '600917367'}},\n",
       "      'referralId': 'e-0-4e8d9dcdd5fbbbb6b3003c7b-0'},\n",
       "     {'reasons': {'count': 0,\n",
       "       'items': [{'summary': 'This spot is popular',\n",
       "         'type': 'general',\n",
       "         'reasonName': 'globalInteractionReason'}]},\n",
       "      'venue': {'id': '4cb11e2075ebb60cd1c4caad',\n",
       "       'name': 'Variety Store',\n",
       "       'location': {'address': '29 Valley Woods Road',\n",
       "        'lat': 43.75197441585782,\n",
       "        'lng': -79.33311418516017,\n",
       "        'labeledLatLngs': [{'label': 'display',\n",
       "          'lat': 43.75197441585782,\n",
       "          'lng': -79.33311418516017}],\n",
       "        'distance': 312,\n",
       "        'cc': 'CA',\n",
       "        'city': 'Toronto',\n",
       "        'state': 'ON',\n",
       "        'country': 'Canada',\n",
       "        'formattedAddress': ['29 Valley Woods Road', 'Toronto ON', 'Canada']},\n",
       "       'categories': [{'id': '4bf58dd8d48988d1f9941735',\n",
       "         'name': 'Food & Drink Shop',\n",
       "         'pluralName': 'Food & Drink Shops',\n",
       "         'shortName': 'Food & Drink',\n",
       "         'icon': {'prefix': 'https://ss3.4sqi.net/img/categories_v2/shops/foodanddrink_',\n",
       "          'suffix': '.png'},\n",
       "         'primary': True}],\n",
       "       'photos': {'count': 0, 'groups': []}},\n",
       "      'referralId': 'e-0-4cb11e2075ebb60cd1c4caad-1'}]}]}}"
      ]
     },
     "execution_count": 32,
     "metadata": {},
     "output_type": "execute_result"
    }
   ],
   "source": [
    "results = requests.get(url).json()\n",
    "results"
   ]
  },
  {
   "cell_type": "code",
   "execution_count": 33,
   "metadata": {},
   "outputs": [],
   "source": [
    "# function that extracts the category of the venue\n",
    "def get_category_type(row):\n",
    "    try:\n",
    "        categories_list = row['categories']\n",
    "    except:\n",
    "        categories_list = row['venue.categories']\n",
    "        \n",
    "    if len(categories_list) == 0:\n",
    "        return None\n",
    "    else:\n",
    "        return categories_list[0]['name']"
   ]
  },
  {
   "cell_type": "code",
   "execution_count": 34,
   "metadata": {},
   "outputs": [
    {
     "name": "stderr",
     "output_type": "stream",
     "text": [
      "/opt/anaconda3/envs/hello/lib/python3.6/site-packages/ipykernel_launcher.py:6: FutureWarning: pandas.io.json.json_normalize is deprecated, use pandas.json_normalize instead\n",
      "  \n"
     ]
    },
    {
     "data": {
      "text/html": [
       "<div>\n",
       "<style scoped>\n",
       "    .dataframe tbody tr th:only-of-type {\n",
       "        vertical-align: middle;\n",
       "    }\n",
       "\n",
       "    .dataframe tbody tr th {\n",
       "        vertical-align: top;\n",
       "    }\n",
       "\n",
       "    .dataframe thead th {\n",
       "        text-align: right;\n",
       "    }\n",
       "</style>\n",
       "<table border=\"1\" class=\"dataframe\">\n",
       "  <thead>\n",
       "    <tr style=\"text-align: right;\">\n",
       "      <th></th>\n",
       "      <th>name</th>\n",
       "      <th>categories</th>\n",
       "      <th>lat</th>\n",
       "      <th>lng</th>\n",
       "    </tr>\n",
       "  </thead>\n",
       "  <tbody>\n",
       "    <tr>\n",
       "      <th>0</th>\n",
       "      <td>Brookbanks Park</td>\n",
       "      <td>Park</td>\n",
       "      <td>43.751976</td>\n",
       "      <td>-79.332140</td>\n",
       "    </tr>\n",
       "    <tr>\n",
       "      <th>1</th>\n",
       "      <td>Variety Store</td>\n",
       "      <td>Food &amp; Drink Shop</td>\n",
       "      <td>43.751974</td>\n",
       "      <td>-79.333114</td>\n",
       "    </tr>\n",
       "  </tbody>\n",
       "</table>\n",
       "</div>"
      ],
      "text/plain": [
       "              name         categories        lat        lng\n",
       "0  Brookbanks Park               Park  43.751976 -79.332140\n",
       "1    Variety Store  Food & Drink Shop  43.751974 -79.333114"
      ]
     },
     "execution_count": 34,
     "metadata": {},
     "output_type": "execute_result"
    }
   ],
   "source": [
    "import json\n",
    "from pandas.io.json import json_normalize\n",
    "\n",
    "venues = results['response']['groups'][0]['items']\n",
    "    \n",
    "nearby_venues = json_normalize(venues) # flatten JSON\n",
    "\n",
    "# filter columns\n",
    "filtered_columns = ['venue.name', 'venue.categories', 'venue.location.lat', 'venue.location.lng']\n",
    "nearby_venues =nearby_venues.loc[:, filtered_columns]\n",
    "\n",
    "# filter the category for each row\n",
    "nearby_venues['venue.categories'] = nearby_venues.apply(get_category_type, axis=1)\n",
    "\n",
    "# clean columns\n",
    "nearby_venues.columns = [col.split(\".\")[-1] for col in nearby_venues.columns]\n",
    "\n",
    "nearby_venues.head()"
   ]
  },
  {
   "cell_type": "markdown",
   "metadata": {},
   "source": [
    "Generalize to obtain the venues from all neighbourhoods in Toronto"
   ]
  },
  {
   "cell_type": "code",
   "execution_count": 35,
   "metadata": {},
   "outputs": [],
   "source": [
    "def getNearbyVenues(names, latitudes, longitudes, radius=500):\n",
    "    \n",
    "    venues_list=[]\n",
    "    for name, lat, lng in zip(names, latitudes, longitudes):\n",
    "        print(name)\n",
    "            \n",
    "        # create the API request URL\n",
    "        url = 'https://api.foursquare.com/v2/venues/explore?&client_id={}&client_secret={}&v={}&ll={},{}&radius={}&limit={}'.format(\n",
    "            CLIENT_ID, \n",
    "            CLIENT_SECRET, \n",
    "            VERSION, \n",
    "            lat, \n",
    "            lng, \n",
    "            radius, \n",
    "            LIMIT)\n",
    "            \n",
    "        # make the GET request\n",
    "        results = requests.get(url).json()[\"response\"]['groups'][0]['items']\n",
    "        \n",
    "        # return only relevant information for each nearby venue\n",
    "        venues_list.append([(\n",
    "            name, \n",
    "            lat, \n",
    "            lng, \n",
    "            v['venue']['name'], \n",
    "            v['venue']['location']['lat'], \n",
    "            v['venue']['location']['lng'],  \n",
    "            v['venue']['categories'][0]['name']) for v in results])\n",
    "\n",
    "    nearby_venues = pd.DataFrame([item for venue_list in venues_list for item in venue_list])\n",
    "    nearby_venues.columns = ['Neighbourhood', \n",
    "                  'Neighbourhood Latitude', \n",
    "                  'Neighbourhood Longitude', \n",
    "                  'Venue', \n",
    "                  'Venue Latitude', \n",
    "                  'Venue Longitude', \n",
    "                  'Venue Category']\n",
    "    \n",
    "    return(nearby_venues)"
   ]
  },
  {
   "cell_type": "code",
   "execution_count": null,
   "metadata": {},
   "outputs": [
    {
     "name": "stdout",
     "output_type": "stream",
     "text": [
      "Parkwoods\n",
      "Victoria Village\n",
      "Regent Park, Harbourfront\n",
      "Lawrence Manor, Lawrence Heights\n",
      "Queen's Park, Ontario Provincial Government\n",
      "Islington Avenue, Humber Valley Village\n",
      "Malvern, Rouge\n",
      "Don Mills\n",
      "Parkview Hill, Woodbine Gardens\n",
      "Garden District, Ryerson\n",
      "Glencairn\n",
      "West Deane Park, Princess Gardens, Martin Grove, Islington, Cloverdale\n",
      "Rouge Hill, Port Union, Highland Creek\n",
      "Don Mills\n",
      "Woodbine Heights\n",
      "St. James Town\n",
      "Humewood-Cedarvale\n",
      "Eringate, Bloordale Gardens, Old Burnhamthorpe, Markland Wood\n",
      "Guildwood, Morningside, West Hill\n",
      "The Beaches\n",
      "Berczy Park\n",
      "Caledonia-Fairbanks\n",
      "Woburn\n",
      "Leaside\n",
      "Central Bay Street\n",
      "Christie\n",
      "Cedarbrae\n",
      "Hillcrest Village\n",
      "Bathurst Manor, Wilson Heights, Downsview North\n",
      "Thorncliffe Park\n",
      "Richmond, Adelaide, King\n",
      "Dufferin, Dovercourt Village\n",
      "Scarborough Village\n",
      "Fairview, Henry Farm, Oriole\n",
      "Northwood Park, York University\n",
      "East Toronto, Broadview North (Old East York)\n",
      "Harbourfront East, Union Station, Toronto Islands\n",
      "Little Portugal, Trinity\n",
      "Kennedy Park, Ionview, East Birchmount Park\n",
      "Bayview Village\n",
      "Downsview\n",
      "The Danforth West, Riverdale\n",
      "Toronto Dominion Centre, Design Exchange\n",
      "Brockton, Parkdale Village, Exhibition Place\n",
      "Golden Mile, Clairlea, Oakridge\n",
      "York Mills, Silver Hills\n",
      "Downsview\n",
      "India Bazaar, The Beaches West\n",
      "Commerce Court, Victoria Hotel\n",
      "North Park, Maple Leaf Park, Upwood Park\n",
      "Humber Summit\n",
      "Cliffside, Cliffcrest, Scarborough Village West\n",
      "Willowdale, Newtonbrook\n",
      "Downsview\n",
      "Studio District\n",
      "Bedford Park, Lawrence Manor East\n",
      "Del Ray, Mount Dennis, Keelsdale and Silverthorn\n",
      "Humberlea, Emery\n",
      "Birch Cliff, Cliffside West\n"
     ]
    }
   ],
   "source": [
    "toronto_venues = getNearbyVenues(names=df['Neighbourhood'],\n",
    "                                   latitudes=df['Latitude'],\n",
    "                                   longitudes=df['Longitude']\n",
    "                                  )"
   ]
  },
  {
   "cell_type": "markdown",
   "metadata": {},
   "source": [
    "Checking the size of df"
   ]
  },
  {
   "cell_type": "code",
   "execution_count": null,
   "metadata": {},
   "outputs": [],
   "source": [
    "print(toronto_venues.shape)\n",
    "toronto_venues.head()"
   ]
  },
  {
   "cell_type": "markdown",
   "metadata": {},
   "source": [
    "Checking how many venues there are for each venue"
   ]
  },
  {
   "cell_type": "code",
   "execution_count": null,
   "metadata": {},
   "outputs": [],
   "source": [
    "toronto_venues.groupby('Neighbourhood').count()"
   ]
  },
  {
   "cell_type": "markdown",
   "metadata": {},
   "source": [
    "How many categorys can we find?"
   ]
  },
  {
   "cell_type": "code",
   "execution_count": null,
   "metadata": {},
   "outputs": [],
   "source": [
    "# one hot encoding\n",
    "toronto_onehot = pd.get_dummies(toronto_venues[['Venue Category']], prefix=\"\", prefix_sep=\"\")\n",
    "\n",
    "# add neighborhood column back to dataframe\n",
    "toronto_onehot['Neighbourhood'] = toronto_venues['Neighbourhood'] \n",
    "\n",
    "# move neighborhood column to the first column\n",
    "fixed_columns = [toronto_onehot.columns[-1]] + list(toronto_onehot.columns[:-1])\n",
    "toronto_onehot = toronto_onehot[fixed_columns]\n",
    "\n",
    "toronto_onehot.head()"
   ]
  },
  {
   "cell_type": "code",
   "execution_count": null,
   "metadata": {},
   "outputs": [],
   "source": [
    "toronto_onehot.shape"
   ]
  },
  {
   "cell_type": "code",
   "execution_count": null,
   "metadata": {},
   "outputs": [],
   "source": [
    "toronto_grouped = toronto_onehot.groupby('Neighbourhood').mean().reset_index()\n",
    "toronto_grouped.head()"
   ]
  },
  {
   "cell_type": "code",
   "execution_count": null,
   "metadata": {},
   "outputs": [],
   "source": [
    "toronto_grouped.shape"
   ]
  },
  {
   "cell_type": "markdown",
   "metadata": {},
   "source": [
    "Getting the top 10 for each neighbourhood"
   ]
  },
  {
   "cell_type": "code",
   "execution_count": null,
   "metadata": {},
   "outputs": [],
   "source": [
    "def return_most_common_venues(row, num_top_venues):\n",
    "    row_categories = row.iloc[1:]\n",
    "    row_categories_sorted = row_categories.sort_values(ascending=False)\n",
    "    \n",
    "    return row_categories_sorted.index.values[0:num_top_venues]"
   ]
  },
  {
   "cell_type": "code",
   "execution_count": null,
   "metadata": {},
   "outputs": [],
   "source": [
    "import numpy as np\n",
    "num_top_venues = 10\n",
    "\n",
    "indicators = ['st', 'nd', 'rd']\n",
    "\n",
    "# create columns according to number of top venues\n",
    "columns = ['Neighbourhood']\n",
    "for ind in np.arange(num_top_venues):\n",
    "    try:\n",
    "        columns.append('{}{} Most Common Venue'.format(ind+1, indicators[ind]))\n",
    "    except:\n",
    "        columns.append('{}th Most Common Venue'.format(ind+1))\n",
    "\n",
    "# create a new dataframe\n",
    "neighborhoods_venues_sorted = pd.DataFrame(columns=columns)\n",
    "neighborhoods_venues_sorted['Neighbourhood'] = toronto_grouped['Neighbourhood']\n",
    "\n",
    "for ind in np.arange(toronto_grouped.shape[0]):\n",
    "    neighborhoods_venues_sorted.iloc[ind, 1:] = return_most_common_venues(toronto_grouped.iloc[ind, :], num_top_venues)\n",
    "\n",
    "neighborhoods_venues_sorted.head()"
   ]
  },
  {
   "cell_type": "markdown",
   "metadata": {},
   "source": [
    "Clustering Neighborhoods"
   ]
  },
  {
   "cell_type": "code",
   "execution_count": null,
   "metadata": {},
   "outputs": [],
   "source": [
    "\n",
    "# import k-means from clustering stage\n",
    "from sklearn.cluster import KMeans\n",
    "\n",
    "# set number of clusters\n",
    "kclusters = 5\n",
    "\n",
    "toronto_grouped_clustering = toronto_grouped.drop('Neighbourhood', 1)\n",
    "\n",
    "# run k-means clustering\n",
    "kmeans = KMeans(n_clusters=kclusters, random_state=0).fit(toronto_grouped_clustering)\n",
    "\n",
    "# check cluster labels generated for each row in the dataframe\n",
    "kmeans.labels_[0:10]"
   ]
  },
  {
   "cell_type": "markdown",
   "metadata": {},
   "source": [
    "Merge the dataframe with the top 10 and the cluster for each neighbourhood"
   ]
  },
  {
   "cell_type": "code",
   "execution_count": null,
   "metadata": {},
   "outputs": [],
   "source": [
    "# add clustering labels\n",
    "neighborhoods_venues_sorted.insert(0, 'Cluster Labels', kmeans.labels_)\n",
    "\n",
    "toronto_merged = df\n",
    "\n",
    "# merge toronto_grouped with toronto_data to add latitude/longitude for each neighborhood\n",
    "toronto_merged = toronto_merged.join(neighborhoods_venues_sorted.set_index('Neighbourhood'), on='Neighbourhood')\n",
    "\n",
    "toronto_merged.head() # check the last columns!"
   ]
  },
  {
   "cell_type": "code",
   "execution_count": null,
   "metadata": {},
   "outputs": [],
   "source": [
    "toronto_merged[toronto_merged['Cluster Labels'].isnull()]"
   ]
  },
  {
   "cell_type": "markdown",
   "metadata": {},
   "source": [
    "Plot the clusters in the map"
   ]
  },
  {
   "cell_type": "code",
   "execution_count": null,
   "metadata": {},
   "outputs": [],
   "source": [
    "import matplotlib.cm as cm\n",
    "import matplotlib.colors as colors\n",
    "\n",
    "# create map\n",
    "map_clusters = folium.Map(location=[latitude, longitude], zoom_start=11)\n",
    "\n",
    "# set color scheme for the clusters\n",
    "x = np.arange(kclusters)\n",
    "ys = [i + x + (i*x)**2 for i in range(kclusters)]\n",
    "colors_array = cm.rainbow(np.linspace(0, 1, len(ys)))\n",
    "rainbow = [colors.rgb2hex(i) for i in colors_array]\n",
    "\n",
    "toronto_merged_nonan = toronto_merged.dropna(subset=['Cluster Labels'])\n",
    "\n",
    "# add markers to the map\n",
    "markers_colors = []\n",
    "for lat, lon, poi, cluster in zip(toronto_merged_nonan['Latitude'], toronto_merged_nonan['Longitude'], toronto_merged_nonan['Neighbourhood'], toronto_merged_nonan['Cluster Labels']):\n",
    "    label = folium.Popup(str(poi) + ' Cluster ' + str(cluster), parse_html=True)\n",
    "    folium.CircleMarker(\n",
    "        [lat, lon],\n",
    "        radius=5,\n",
    "        popup=label,\n",
    "        color=rainbow[int(cluster-1)],\n",
    "        fill=True,\n",
    "        fill_color=rainbow[int(cluster-1)],\n",
    "        fill_opacity=0.7).add_to(map_clusters)\n",
    "       \n",
    "map_clusters"
   ]
  },
  {
   "cell_type": "markdown",
   "metadata": {},
   "source": [
    "Examine clusters\n",
    "\n",
    "Cluster 1"
   ]
  },
  {
   "cell_type": "code",
   "execution_count": null,
   "metadata": {},
   "outputs": [],
   "source": [
    "toronto_merged_nonan.loc[toronto_merged_nonan['Cluster Labels'] == 0, toronto_merged_nonan.columns[[1] + list(range(5, toronto_merged_nonan.shape[1]))]]"
   ]
  },
  {
   "cell_type": "markdown",
   "metadata": {},
   "source": [
    "Cluster 2"
   ]
  },
  {
   "cell_type": "code",
   "execution_count": null,
   "metadata": {},
   "outputs": [],
   "source": [
    "toronto_merged_nonan.loc[toronto_merged_nonan['Cluster Labels'] == 1, toronto_merged_nonan.columns[[1] + list(range(5, toronto_merged_nonan.shape[1]))]]"
   ]
  },
  {
   "cell_type": "markdown",
   "metadata": {},
   "source": [
    "Cluster 3"
   ]
  },
  {
   "cell_type": "code",
   "execution_count": null,
   "metadata": {},
   "outputs": [],
   "source": [
    "toronto_merged_nonan.loc[toronto_merged_nonan['Cluster Labels'] == 2, toronto_merged_nonan.columns[[1] + list(range(5, toronto_merged_nonan.shape[1]))]]"
   ]
  },
  {
   "cell_type": "markdown",
   "metadata": {},
   "source": [
    "Cluster 4"
   ]
  },
  {
   "cell_type": "code",
   "execution_count": null,
   "metadata": {},
   "outputs": [],
   "source": [
    "toronto_merged_nonan.loc[toronto_merged_nonan['Cluster Labels'] == 3, toronto_merged_nonan.columns[[1] + list(range(5, toronto_merged_nonan.shape[1]))]]"
   ]
  },
  {
   "cell_type": "markdown",
   "metadata": {},
   "source": [
    "Cluster 5"
   ]
  },
  {
   "cell_type": "code",
   "execution_count": null,
   "metadata": {},
   "outputs": [],
   "source": [
    "toronto_merged_nonan.loc[toronto_merged_nonan['Cluster Labels'] == 4, toronto_merged_nonan.columns[[1] + list(range(5, toronto_merged_nonan.shape[1]))]]"
   ]
  },
  {
   "cell_type": "code",
   "execution_count": null,
   "metadata": {},
   "outputs": [],
   "source": []
  }
 ],
 "metadata": {
  "kernelspec": {
   "display_name": "Python 3",
   "language": "python",
   "name": "python3"
  },
  "language_info": {
   "codemirror_mode": {
    "name": "ipython",
    "version": 3
   },
   "file_extension": ".py",
   "mimetype": "text/x-python",
   "name": "python",
   "nbconvert_exporter": "python",
   "pygments_lexer": "ipython3",
   "version": "3.6.10"
  }
 },
 "nbformat": 4,
 "nbformat_minor": 4
}
